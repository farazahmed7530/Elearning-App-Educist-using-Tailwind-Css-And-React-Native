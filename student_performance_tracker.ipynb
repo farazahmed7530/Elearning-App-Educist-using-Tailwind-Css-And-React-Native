{
  "nbformat": 4,
  "nbformat_minor": 0,
  "metadata": {
    "colab": {
      "provenance": [],
      "authorship_tag": "ABX9TyNDAaNfxq+/g0qCPOTDK/E4",
      "include_colab_link": true
    },
    "kernelspec": {
      "name": "python3",
      "display_name": "Python 3"
    },
    "language_info": {
      "name": "python"
    }
  },
  "cells": [
    {
      "cell_type": "markdown",
      "metadata": {
        "id": "view-in-github",
        "colab_type": "text"
      },
      "source": [
        "<a href=\"https://colab.research.google.com/github/farazahmed7530/Elearning-App-Educist-using-Tailwind-Css-And-React-Native/blob/main/student_performance_tracker.ipynb\" target=\"_parent\"><img src=\"https://colab.research.google.com/assets/colab-badge.svg\" alt=\"Open In Colab\"/></a>"
      ]
    },
    {
      "cell_type": "code",
      "execution_count": 1,
      "metadata": {
        "colab": {
          "base_uri": "https://localhost:8080/"
        },
        "id": "3ua-s2lhhPER",
        "outputId": "10329877-aa3a-4699-eff6-ca37413df3b3"
      },
      "outputs": [
        {
          "output_type": "stream",
          "name": "stdout",
          "text": [
            "Enter student's name (or type 'done' to finish): Faraz\n",
            "Enter score for Math: 40\n",
            "Enter score for Science: 30\n",
            "Enter score for English: 40\n",
            "Enter student's name (or type 'done' to finish): Faraz\n",
            "Enter score for Math: 10\n",
            "Enter score for Science: 30\n",
            "Enter score for English: 20\n",
            "Enter student's name (or type 'done' to finish): done\n",
            "\n",
            "Student Performance:\n",
            "Student: Faraz, Average Score: 20.00, Status: Needs Improvement\n",
            "\n",
            "Class Average: 20.00\n"
          ]
        }
      ],
      "source": [
        "class Student:\n",
        "    def __init__(self, name, scores):\n",
        "        self.name = name\n",
        "        self.scores = scores\n",
        "\n",
        "    def calculate_average(self):\n",
        "        return sum(self.scores) / len(self.scores)\n",
        "\n",
        "    def is_passing(self, passing_score=40):\n",
        "        return all(score >= passing_score for score in self.scores)\n",
        "\n",
        "class PerformanceTracker:\n",
        "    def __init__(self):\n",
        "        self.students = {}\n",
        "\n",
        "    def add_student(self, name, scores):\n",
        "        student = Student(name, scores)\n",
        "        self.students[name] = student\n",
        "\n",
        "    def calculate_class_average(self):\n",
        "        if not self.students:\n",
        "            return 0\n",
        "        total = sum(student.calculate_average() for student in self.students.values())\n",
        "        return total / len(self.students)\n",
        "\n",
        "    def display_student_performance(self):\n",
        "        for name, student in self.students.items():\n",
        "            average = student.calculate_average()\n",
        "            status = \"Passing\" if student.is_passing() else \"Needs Improvement\"\n",
        "            print(f\"Student: {name}, Average Score: {average:.2f}, Status: {status}\")\n",
        "        print(f\"\\nClass Average: {self.calculate_class_average():.2f}\")\n",
        "\n",
        "def main():\n",
        "    tracker = PerformanceTracker()\n",
        "\n",
        "    while True:\n",
        "        name = input(\"Enter student's name (or type 'done' to finish): \")\n",
        "        if name.lower() == 'done':\n",
        "            break\n",
        "\n",
        "        scores = []\n",
        "        for subject in ['Math', 'Science', 'English']:\n",
        "            while True:\n",
        "                try:\n",
        "                    score = int(input(f\"Enter score for {subject}: \"))\n",
        "                    if 0 <= score <= 100:\n",
        "                        scores.append(score)\n",
        "                        break\n",
        "                    else:\n",
        "                        print(\"Please enter a score between 0 and 100.\")\n",
        "                except ValueError:\n",
        "                    print(\"Invalid input. Please enter a number.\")\n",
        "\n",
        "        tracker.add_student(name, scores)\n",
        "\n",
        "    print(\"\\nStudent Performance:\")\n",
        "    tracker.display_student_performance()\n",
        "\n",
        "if __name__ == \"__main__\":\n",
        "    main()\n"
      ]
    }
  ]
}